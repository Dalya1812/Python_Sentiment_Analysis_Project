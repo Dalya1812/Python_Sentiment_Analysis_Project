{
  "metadata": {
    "kernelspec": {
      "language": "python",
      "display_name": "Python 3",
      "name": "python3"
    },
    "language_info": {
      "name": "python",
      "version": "3.10.12",
      "mimetype": "text/x-python",
      "codemirror_mode": {
        "name": "ipython",
        "version": 3
      },
      "pygments_lexer": "ipython3",
      "nbconvert_exporter": "python",
      "file_extension": ".py"
    },
    "kaggle": {
      "accelerator": "none",
      "dataSources": [
        {
          "sourceId": 7957877,
          "sourceType": "datasetVersion",
          "datasetId": 3864183
        },
        {
          "sourceId": 9702384,
          "sourceType": "datasetVersion",
          "datasetId": 5933376
        }
      ],
      "dockerImageVersionId": 30558,
      "isInternetEnabled": true,
      "language": "python",
      "sourceType": "notebook",
      "isGpuEnabled": false
    },
    "colab": {
      "name": "Amzon UK Product 2023 Data Analysis",
      "provenance": [],
      "include_colab_link": true
    }
  },
  "nbformat_minor": 0,
  "nbformat": 4,
  "cells": [
    {
      "cell_type": "markdown",
      "metadata": {
        "id": "view-in-github",
        "colab_type": "text"
      },
      "source": [
        "<a href=\"https://colab.research.google.com/github/Dalya1812/Python_Sentiment_Analysis_Project/blob/master/Amzon_UK_Product_2023_Data_Analysis.ipynb\" target=\"_parent\"><img src=\"https://colab.research.google.com/assets/colab-badge.svg\" alt=\"Open In Colab\"/></a>"
      ]
    },
    {
      "source": [
        "# IMPORTANT: SOME KAGGLE DATA SOURCES ARE PRIVATE\n",
        "# RUN THIS CELL IN ORDER TO IMPORT YOUR KAGGLE DATA SOURCES.\n",
        "import kagglehub\n",
        "kagglehub.login()\n"
      ],
      "metadata": {
        "id": "4jyyhjjvKTES"
      },
      "cell_type": "code",
      "outputs": [],
      "execution_count": null
    },
    {
      "source": [
        "# IMPORTANT: RUN THIS CELL IN ORDER TO IMPORT YOUR KAGGLE DATA SOURCES,\n",
        "# THEN FEEL FREE TO DELETE THIS CELL.\n",
        "# NOTE: THIS NOTEBOOK ENVIRONMENT DIFFERS FROM KAGGLE'S PYTHON\n",
        "# ENVIRONMENT SO THERE MAY BE MISSING LIBRARIES USED BY YOUR\n",
        "# NOTEBOOK.\n",
        "\n",
        "asaniczka_amazon_uk_products_dataset_2023_path = kagglehub.dataset_download('asaniczka/amazon-uk-products-dataset-2023')\n",
        "daliawilliam_amazon_uk_shoes_products_dataset_2021_12_path = kagglehub.dataset_download('daliawilliam/amazon-uk-shoes-products-dataset-2021-12')\n",
        "\n",
        "print('Data source import complete.')\n"
      ],
      "metadata": {
        "id": "pLjFwBuEKTES"
      },
      "cell_type": "code",
      "outputs": [],
      "execution_count": null
    },
    {
      "cell_type": "code",
      "source": [
        "import pandas as pd\n",
        "import numpy as np\n",
        "import matplotlib.pyplot as plt\n",
        "import seaborn as sns\n",
        "plt.style.use('ggplot')\n",
        "import nltk"
      ],
      "metadata": {
        "execution": {
          "iopub.status.busy": "2024-10-28T17:23:56.9573Z",
          "iopub.execute_input": "2024-10-28T17:23:56.95775Z",
          "iopub.status.idle": "2024-10-28T17:23:56.964285Z",
          "shell.execute_reply.started": "2024-10-28T17:23:56.957715Z",
          "shell.execute_reply": "2024-10-28T17:23:56.963068Z"
        },
        "trusted": true,
        "id": "Xp8AjYoTKTET"
      },
      "execution_count": null,
      "outputs": []
    },
    {
      "cell_type": "code",
      "source": [
        "df = pd.read_csv(\"/kaggle/input/amazon-uk-shoes-products-dataset-2021-12/amazon_uk_shoes_products_dataset_2021_12.csv\")"
      ],
      "metadata": {
        "jupyter": {
          "source_hidden": true
        },
        "execution": {
          "iopub.status.busy": "2024-10-28T17:23:56.966361Z",
          "iopub.execute_input": "2024-10-28T17:23:56.966762Z",
          "iopub.status.idle": "2024-10-28T17:23:57.064436Z",
          "shell.execute_reply.started": "2024-10-28T17:23:56.96673Z",
          "shell.execute_reply": "2024-10-28T17:23:57.063495Z"
        },
        "trusted": true,
        "id": "PYm_to27KTET"
      },
      "execution_count": null,
      "outputs": []
    },
    {
      "cell_type": "code",
      "source": [
        "df.head()"
      ],
      "metadata": {
        "jupyter": {
          "source_hidden": true
        },
        "execution": {
          "iopub.status.busy": "2024-10-28T17:23:57.065559Z",
          "iopub.execute_input": "2024-10-28T17:23:57.065862Z",
          "iopub.status.idle": "2024-10-28T17:23:57.084332Z",
          "shell.execute_reply.started": "2024-10-28T17:23:57.065835Z",
          "shell.execute_reply": "2024-10-28T17:23:57.083137Z"
        },
        "trusted": true,
        "id": "PeYQxC_IKTET",
        "outputId": "863d2659-014f-460a-9def-bd878e39e0d9"
      },
      "execution_count": null,
      "outputs": [
        {
          "execution_count": 39,
          "output_type": "execute_result",
          "data": {
            "text/plain": "                                      url  \\\n0  https://www.amazon.co.uk/dp/B07SBX32T5   \n1  https://www.amazon.co.uk/dp/B07SBX32T5   \n2  https://www.amazon.co.uk/dp/B07SBX32T5   \n3  https://www.amazon.co.uk/dp/B07SBX32T5   \n4  https://www.amazon.co.uk/dp/B08SW434MG   \n\n                                        product_name     reviewer_name  \\\n0  Klasified Women's Transparent Clear Sneaker Sh...  Jocelyn McSayles   \n1  Klasified Women's Transparent Clear Sneaker Sh...      Kenia Rivera   \n2  Klasified Women's Transparent Clear Sneaker Sh...       Chris Souza   \n3  Klasified Women's Transparent Clear Sneaker Sh...   Amazon Customer   \n4  GUESS Women's Bradly Gymnastics Shoe, White, 7 UK         Graziella   \n\n         review_title                                        review_text  \\\n0             Love em  Love these. Was looking for converses and thes...   \n1  The plastic ripped  The shoes are very cute, but after the 2nd day...   \n2        Good quality                                       Good quality   \n3                Good                                              Great   \n4          PERFETTE!!  Ho scelto il modello bianco con rifinitura die...   \n\n   review_rating  verified_purchase  \\\n0            5.0               True   \n1            2.0               True   \n2            5.0               True   \n3            5.0               True   \n4            5.0               True   \n\n                                        review_date  \\\n0      Reviewed in the United States on 2 June 2020   \n1  Reviewed in the United States on 28 October 2021   \n2  Reviewed in the United States on 20 January 2021   \n3    Reviewed in the United States on 22 April 2021   \n4                 Reviewed in Italy on 2 April 2021   \n\n                 helpful_count                               uniq_id  \\\n0  2 people found this helpful  36eae4e5-2894-5279-a0b7-d2b330e2b814   \n1                          NaN  f4778bb8-3070-5cb1-b5aa-ffce41a97b57   \n2                          NaN  db5a7525-d40b-5265-84d8-df4f29837a3b   \n3                          NaN  75a42851-6462-54b5-988a-27d336221943   \n4  2 people found this helpful  232dee43-849e-5d06-ba05-efb3f4814714   \n\n            scraped_at  \n0  24/12/2021 02:26:25  \n1  24/12/2021 02:26:25  \n2  24/12/2021 02:26:25  \n3  24/12/2021 02:26:25  \n4  24/12/2021 02:26:25  ",
            "text/html": "<div>\n<style scoped>\n    .dataframe tbody tr th:only-of-type {\n        vertical-align: middle;\n    }\n\n    .dataframe tbody tr th {\n        vertical-align: top;\n    }\n\n    .dataframe thead th {\n        text-align: right;\n    }\n</style>\n<table border=\"1\" class=\"dataframe\">\n  <thead>\n    <tr style=\"text-align: right;\">\n      <th></th>\n      <th>url</th>\n      <th>product_name</th>\n      <th>reviewer_name</th>\n      <th>review_title</th>\n      <th>review_text</th>\n      <th>review_rating</th>\n      <th>verified_purchase</th>\n      <th>review_date</th>\n      <th>helpful_count</th>\n      <th>uniq_id</th>\n      <th>scraped_at</th>\n    </tr>\n  </thead>\n  <tbody>\n    <tr>\n      <th>0</th>\n      <td>https://www.amazon.co.uk/dp/B07SBX32T5</td>\n      <td>Klasified Women's Transparent Clear Sneaker Sh...</td>\n      <td>Jocelyn McSayles</td>\n      <td>Love em</td>\n      <td>Love these. Was looking for converses and thes...</td>\n      <td>5.0</td>\n      <td>True</td>\n      <td>Reviewed in the United States on 2 June 2020</td>\n      <td>2 people found this helpful</td>\n      <td>36eae4e5-2894-5279-a0b7-d2b330e2b814</td>\n      <td>24/12/2021 02:26:25</td>\n    </tr>\n    <tr>\n      <th>1</th>\n      <td>https://www.amazon.co.uk/dp/B07SBX32T5</td>\n      <td>Klasified Women's Transparent Clear Sneaker Sh...</td>\n      <td>Kenia Rivera</td>\n      <td>The plastic ripped</td>\n      <td>The shoes are very cute, but after the 2nd day...</td>\n      <td>2.0</td>\n      <td>True</td>\n      <td>Reviewed in the United States on 28 October 2021</td>\n      <td>NaN</td>\n      <td>f4778bb8-3070-5cb1-b5aa-ffce41a97b57</td>\n      <td>24/12/2021 02:26:25</td>\n    </tr>\n    <tr>\n      <th>2</th>\n      <td>https://www.amazon.co.uk/dp/B07SBX32T5</td>\n      <td>Klasified Women's Transparent Clear Sneaker Sh...</td>\n      <td>Chris Souza</td>\n      <td>Good quality</td>\n      <td>Good quality</td>\n      <td>5.0</td>\n      <td>True</td>\n      <td>Reviewed in the United States on 20 January 2021</td>\n      <td>NaN</td>\n      <td>db5a7525-d40b-5265-84d8-df4f29837a3b</td>\n      <td>24/12/2021 02:26:25</td>\n    </tr>\n    <tr>\n      <th>3</th>\n      <td>https://www.amazon.co.uk/dp/B07SBX32T5</td>\n      <td>Klasified Women's Transparent Clear Sneaker Sh...</td>\n      <td>Amazon Customer</td>\n      <td>Good</td>\n      <td>Great</td>\n      <td>5.0</td>\n      <td>True</td>\n      <td>Reviewed in the United States on 22 April 2021</td>\n      <td>NaN</td>\n      <td>75a42851-6462-54b5-988a-27d336221943</td>\n      <td>24/12/2021 02:26:25</td>\n    </tr>\n    <tr>\n      <th>4</th>\n      <td>https://www.amazon.co.uk/dp/B08SW434MG</td>\n      <td>GUESS Women's Bradly Gymnastics Shoe, White, 7 UK</td>\n      <td>Graziella</td>\n      <td>PERFETTE!!</td>\n      <td>Ho scelto il modello bianco con rifinitura die...</td>\n      <td>5.0</td>\n      <td>True</td>\n      <td>Reviewed in Italy on 2 April 2021</td>\n      <td>2 people found this helpful</td>\n      <td>232dee43-849e-5d06-ba05-efb3f4814714</td>\n      <td>24/12/2021 02:26:25</td>\n    </tr>\n  </tbody>\n</table>\n</div>"
          },
          "metadata": {}
        }
      ]
    },
    {
      "cell_type": "code",
      "source": [
        "df = df.sample(n=500)\n",
        "df.head()"
      ],
      "metadata": {
        "jupyter": {
          "source_hidden": true
        },
        "execution": {
          "iopub.status.busy": "2024-10-28T17:23:57.08618Z",
          "iopub.execute_input": "2024-10-28T17:23:57.08663Z",
          "iopub.status.idle": "2024-10-28T17:23:57.111345Z",
          "shell.execute_reply.started": "2024-10-28T17:23:57.086587Z",
          "shell.execute_reply": "2024-10-28T17:23:57.110123Z"
        },
        "trusted": true,
        "id": "7gkXaB0DKTET",
        "outputId": "1880c4ef-5b24-408e-aed0-76ade6f46115"
      },
      "execution_count": null,
      "outputs": [
        {
          "execution_count": 40,
          "output_type": "execute_result",
          "data": {
            "text/plain": "                                         url  \\\n4839  https://www.amazon.co.uk/dp/B07NZ2FFXR   \n4653  https://www.amazon.co.uk/dp/B07Z54MDQZ   \n1217  https://www.amazon.co.uk/dp/B0812L3RFX   \n5820  https://www.amazon.co.uk/dp/B07NSF1YST   \n6817  https://www.amazon.co.uk/dp/B06XFT2G2F   \n\n                                           product_name      reviewer_name  \\\n4839  adidas Unisex Babies U_Path J Running Shoe, Cb...                  🖤   \n4653  Ryka Women&#39;s Infinite Plus Walking Black/P...           bittycat   \n1217  adidas unisex-child Racer TR 2.0,Ink/Copper/pi...           Katie G.   \n5820  Richter Kinderschuhe Men's Ola Hi-Top Trainers...  Pippi Langstrumpf   \n6817  Skechers Kids Boys' Nitrate-95358N Sneaker, Bl...                jen   \n\n                                         review_title  \\\n4839                  B-Ware!! Schlechte Verarbeitung   \n4653  Ryka Infinite shoes are perfect for summer wear   \n1217                     No Velcro Strap, as Pictured   \n5820                        Sohle leider viel zu hart   \n6817              These shoes are great for the price   \n\n                                            review_text  review_rating  \\\n4839  Aufgrund der positiven Resonanz habe ich mir d...            1.0   \n4653  I love these Ryka shoes.  I purchased my usual...            5.0   \n1217  This shoe doesn't actually have the velcro str...            2.0   \n5820  Die Sohle der Schuhe ist viel zu hart, ich wei...            2.0   \n6817  These shoes are great for the price. Been lovi...            4.0   \n\n      verified_purchase                                       review_date  \\\n4839               True              Reviewed in Germany on 17 March 2021   \n4653               True     Reviewed in the United States on 29 June 2021   \n1217               True    Reviewed in the United States on 24 March 2021   \n5820               True            Reviewed in Germany on 2 December 2020   \n6817               True  Reviewed in the United States on 17 October 2017   \n\n                      helpful_count                               uniq_id  \\\n4839  One person found this helpful  4027b29b-0198-5848-b403-623464fa5784   \n4653                            NaN  4ebc8772-bb8d-53b7-b086-02b7465fbd75   \n1217  One person found this helpful  79cf2ecf-3dfd-59b2-b242-27c3fdf6c313   \n5820                            NaN  074d1114-db1b-5de3-b3bb-b280cc624a1f   \n6817                            NaN  c079d22a-0ad1-514f-9937-d650598f7c7d   \n\n               scraped_at  \n4839  24/12/2021 02:28:41  \n4653  24/12/2021 02:28:36  \n1217  24/12/2021 02:26:56  \n5820  24/12/2021 02:29:03  \n6817  24/12/2021 02:29:38  ",
            "text/html": "<div>\n<style scoped>\n    .dataframe tbody tr th:only-of-type {\n        vertical-align: middle;\n    }\n\n    .dataframe tbody tr th {\n        vertical-align: top;\n    }\n\n    .dataframe thead th {\n        text-align: right;\n    }\n</style>\n<table border=\"1\" class=\"dataframe\">\n  <thead>\n    <tr style=\"text-align: right;\">\n      <th></th>\n      <th>url</th>\n      <th>product_name</th>\n      <th>reviewer_name</th>\n      <th>review_title</th>\n      <th>review_text</th>\n      <th>review_rating</th>\n      <th>verified_purchase</th>\n      <th>review_date</th>\n      <th>helpful_count</th>\n      <th>uniq_id</th>\n      <th>scraped_at</th>\n    </tr>\n  </thead>\n  <tbody>\n    <tr>\n      <th>4839</th>\n      <td>https://www.amazon.co.uk/dp/B07NZ2FFXR</td>\n      <td>adidas Unisex Babies U_Path J Running Shoe, Cb...</td>\n      <td>🖤</td>\n      <td>B-Ware!! Schlechte Verarbeitung</td>\n      <td>Aufgrund der positiven Resonanz habe ich mir d...</td>\n      <td>1.0</td>\n      <td>True</td>\n      <td>Reviewed in Germany on 17 March 2021</td>\n      <td>One person found this helpful</td>\n      <td>4027b29b-0198-5848-b403-623464fa5784</td>\n      <td>24/12/2021 02:28:41</td>\n    </tr>\n    <tr>\n      <th>4653</th>\n      <td>https://www.amazon.co.uk/dp/B07Z54MDQZ</td>\n      <td>Ryka Women&amp;#39;s Infinite Plus Walking Black/P...</td>\n      <td>bittycat</td>\n      <td>Ryka Infinite shoes are perfect for summer wear</td>\n      <td>I love these Ryka shoes.  I purchased my usual...</td>\n      <td>5.0</td>\n      <td>True</td>\n      <td>Reviewed in the United States on 29 June 2021</td>\n      <td>NaN</td>\n      <td>4ebc8772-bb8d-53b7-b086-02b7465fbd75</td>\n      <td>24/12/2021 02:28:36</td>\n    </tr>\n    <tr>\n      <th>1217</th>\n      <td>https://www.amazon.co.uk/dp/B0812L3RFX</td>\n      <td>adidas unisex-child Racer TR 2.0,Ink/Copper/pi...</td>\n      <td>Katie G.</td>\n      <td>No Velcro Strap, as Pictured</td>\n      <td>This shoe doesn't actually have the velcro str...</td>\n      <td>2.0</td>\n      <td>True</td>\n      <td>Reviewed in the United States on 24 March 2021</td>\n      <td>One person found this helpful</td>\n      <td>79cf2ecf-3dfd-59b2-b242-27c3fdf6c313</td>\n      <td>24/12/2021 02:26:56</td>\n    </tr>\n    <tr>\n      <th>5820</th>\n      <td>https://www.amazon.co.uk/dp/B07NSF1YST</td>\n      <td>Richter Kinderschuhe Men's Ola Hi-Top Trainers...</td>\n      <td>Pippi Langstrumpf</td>\n      <td>Sohle leider viel zu hart</td>\n      <td>Die Sohle der Schuhe ist viel zu hart, ich wei...</td>\n      <td>2.0</td>\n      <td>True</td>\n      <td>Reviewed in Germany on 2 December 2020</td>\n      <td>NaN</td>\n      <td>074d1114-db1b-5de3-b3bb-b280cc624a1f</td>\n      <td>24/12/2021 02:29:03</td>\n    </tr>\n    <tr>\n      <th>6817</th>\n      <td>https://www.amazon.co.uk/dp/B06XFT2G2F</td>\n      <td>Skechers Kids Boys' Nitrate-95358N Sneaker, Bl...</td>\n      <td>jen</td>\n      <td>These shoes are great for the price</td>\n      <td>These shoes are great for the price. Been lovi...</td>\n      <td>4.0</td>\n      <td>True</td>\n      <td>Reviewed in the United States on 17 October 2017</td>\n      <td>NaN</td>\n      <td>c079d22a-0ad1-514f-9937-d650598f7c7d</td>\n      <td>24/12/2021 02:29:38</td>\n    </tr>\n  </tbody>\n</table>\n</div>"
          },
          "metadata": {}
        }
      ]
    },
    {
      "cell_type": "markdown",
      "source": [
        "ETA****"
      ],
      "metadata": {
        "id": "iv7bCxIqKTET"
      }
    },
    {
      "cell_type": "code",
      "source": [
        "df[\"review_rating\"].value_counts()"
      ],
      "metadata": {
        "jupyter": {
          "source_hidden": true
        },
        "execution": {
          "iopub.status.busy": "2024-10-28T17:23:57.114501Z",
          "iopub.execute_input": "2024-10-28T17:23:57.11486Z",
          "iopub.status.idle": "2024-10-28T17:23:57.128826Z",
          "shell.execute_reply.started": "2024-10-28T17:23:57.114829Z",
          "shell.execute_reply": "2024-10-28T17:23:57.127667Z"
        },
        "trusted": true,
        "id": "owsuoaKXKTEU",
        "outputId": "ebb106d1-d363-4631-e91b-a6ca35ad745c"
      },
      "execution_count": null,
      "outputs": [
        {
          "execution_count": 41,
          "output_type": "execute_result",
          "data": {
            "text/plain": "review_rating\n5.0    307\n1.0     68\n4.0     57\n3.0     36\n2.0     32\nName: count, dtype: int64"
          },
          "metadata": {}
        }
      ]
    },
    {
      "cell_type": "code",
      "source": [
        "import nltk\n",
        "nltk.download('averaged_perceptron_tagger')  # Download the POS tagger model if needed\n",
        "\n",
        "\n"
      ],
      "metadata": {
        "jupyter": {
          "source_hidden": true
        },
        "execution": {
          "iopub.status.busy": "2024-10-28T17:23:57.130254Z",
          "iopub.execute_input": "2024-10-28T17:23:57.130591Z",
          "iopub.status.idle": "2024-10-28T17:23:57.141548Z",
          "shell.execute_reply.started": "2024-10-28T17:23:57.130561Z",
          "shell.execute_reply": "2024-10-28T17:23:57.140507Z"
        },
        "trusted": true,
        "id": "4PxTW_pVKTEU",
        "outputId": "59361c29-cde6-4fb8-d55e-e5e2be0cb4ba"
      },
      "execution_count": null,
      "outputs": [
        {
          "name": "stdout",
          "text": "[nltk_data] Downloading package averaged_perceptron_tagger to\n[nltk_data]     /usr/share/nltk_data...\n[nltk_data]   Package averaged_perceptron_tagger is already up-to-\n[nltk_data]       date!\n",
          "output_type": "stream"
        },
        {
          "execution_count": 42,
          "output_type": "execute_result",
          "data": {
            "text/plain": "True"
          },
          "metadata": {}
        }
      ]
    },
    {
      "cell_type": "code",
      "source": [
        "import nltk\n",
        "\n",
        "# Ensure text is a string before tokenizing\n",
        "df[\"tokens\"] = df[\"review_text\"].apply(lambda x: nltk.word_tokenize(str(x)) if isinstance(x, str) else [])\n",
        "\n",
        "# Apply POS tagging to each list of tokens\n",
        "df[\"pos_tags\"] = df[\"tokens\"].apply(lambda tokens: nltk.pos_tag(tokens) if tokens else [])\n",
        "df[\"pos_tags\"].head(10)"
      ],
      "metadata": {
        "jupyter": {
          "source_hidden": true
        },
        "execution": {
          "iopub.status.busy": "2024-10-28T17:23:57.142779Z",
          "iopub.execute_input": "2024-10-28T17:23:57.143123Z",
          "iopub.status.idle": "2024-10-28T17:23:58.605603Z",
          "shell.execute_reply.started": "2024-10-28T17:23:57.143088Z",
          "shell.execute_reply": "2024-10-28T17:23:58.604498Z"
        },
        "trusted": true,
        "id": "u8z-73VfKTEU",
        "outputId": "f124a34f-c22c-42d2-8dd1-ea93a97d5991"
      },
      "execution_count": null,
      "outputs": [
        {
          "execution_count": 43,
          "output_type": "execute_result",
          "data": {
            "text/plain": "4839    [(Aufgrund, NNP), (der, NN), (positiven, NN), ...\n4653    [(I, PRP), (love, VBP), (these, DT), (Ryka, NN...\n1217    [(This, DT), (shoe, NN), (does, VBZ), (n't, RB...\n5820    [(Die, NNP), (Sohle, NNP), (der, NN), (Schuhe,...\n6817    [(These, DT), (shoes, NNS), (are, VBP), (great...\n453     [(Schicke, NNP), (und, JJ), (bequeme, NN), (Sa...\n1755    [(Been, NNP), (wearing, VBG), (ours, NNS), (fo...\n1414    [(Too, NNP), (heavy, JJ), (and, CC), (wintery,...\n3279    [(Un, NNP), (bel, NN), (paio, NN), (di, NN), (...\n2024    [(Although, IN), (these, DT), (are, VBP), (cut...\nName: pos_tags, dtype: object"
          },
          "metadata": {}
        }
      ]
    },
    {
      "cell_type": "code",
      "source": [
        "from nltk.sentiment import SentimentIntensityAnalyzer\n",
        "from tqdm.notebook import tqdm"
      ],
      "metadata": {
        "jupyter": {
          "source_hidden": true
        },
        "execution": {
          "iopub.status.busy": "2024-10-28T17:23:58.606858Z",
          "iopub.execute_input": "2024-10-28T17:23:58.607239Z",
          "iopub.status.idle": "2024-10-28T17:23:58.614479Z",
          "shell.execute_reply.started": "2024-10-28T17:23:58.607208Z",
          "shell.execute_reply": "2024-10-28T17:23:58.61293Z"
        },
        "trusted": true,
        "id": "9mGIjOOjKTEU"
      },
      "execution_count": null,
      "outputs": []
    },
    {
      "cell_type": "code",
      "source": [
        "sia = SentimentIntensityAnalyzer()\n",
        "sia.polarity_scores(\"you boring me\")"
      ],
      "metadata": {
        "jupyter": {
          "source_hidden": true
        },
        "execution": {
          "iopub.status.busy": "2024-10-28T17:23:58.61635Z",
          "iopub.execute_input": "2024-10-28T17:23:58.616865Z",
          "iopub.status.idle": "2024-10-28T17:23:58.63513Z",
          "shell.execute_reply.started": "2024-10-28T17:23:58.616822Z",
          "shell.execute_reply": "2024-10-28T17:23:58.634011Z"
        },
        "trusted": true,
        "id": "P-Wtu9gYKTEU",
        "outputId": "f951fcef-b6f6-45c5-f4c3-6584a2829529"
      },
      "execution_count": null,
      "outputs": [
        {
          "execution_count": 45,
          "output_type": "execute_result",
          "data": {
            "text/plain": "{'neg': 0.535, 'neu': 0.465, 'pos': 0.0, 'compound': -0.3182}"
          },
          "metadata": {}
        }
      ]
    },
    {
      "cell_type": "code",
      "source": [
        "res = {}\n",
        "for i, row in df.iterrows():\n",
        "    text = row[\"review_text\"]\n",
        "    res[i] = sia.polarity_scores(str(text)) if isinstance(text, str) else sia.polarity_scores(\"\")\n",
        "\n",
        "\n"
      ],
      "metadata": {
        "jupyter": {
          "source_hidden": true
        },
        "execution": {
          "iopub.status.busy": "2024-10-28T17:23:58.636875Z",
          "iopub.execute_input": "2024-10-28T17:23:58.6374Z",
          "iopub.status.idle": "2024-10-28T17:23:58.975011Z",
          "shell.execute_reply.started": "2024-10-28T17:23:58.637358Z",
          "shell.execute_reply": "2024-10-28T17:23:58.974092Z"
        },
        "trusted": true,
        "id": "_Lj0uVM1KTEV"
      },
      "execution_count": null,
      "outputs": []
    },
    {
      "cell_type": "code",
      "source": [
        "vaders = pd.DataFrame(res).T\n",
        "df = df.reset_index().rename(columns={\"index\": \"Id\"})\n",
        "vaders = vaders.merge(df, how='left', left_index=True, right_index=True)\n",
        "vaders\n"
      ],
      "metadata": {
        "jupyter": {
          "source_hidden": true
        },
        "execution": {
          "iopub.status.busy": "2024-10-28T17:23:58.976604Z",
          "iopub.execute_input": "2024-10-28T17:23:58.976934Z",
          "iopub.status.idle": "2024-10-28T17:23:59.049644Z",
          "shell.execute_reply.started": "2024-10-28T17:23:58.976906Z",
          "shell.execute_reply": "2024-10-28T17:23:59.048522Z"
        },
        "trusted": true,
        "id": "K2C9DquZKTEV",
        "outputId": "2a1f92bb-04e1-4725-a707-63249a75c791"
      },
      "execution_count": null,
      "outputs": [
        {
          "execution_count": 47,
          "output_type": "execute_result",
          "data": {
            "text/plain": "        neg    neu    pos  compound      Id  \\\n4839  0.000  1.000  0.000    0.0000     NaN   \n4653  0.000  0.607  0.393    0.9526     NaN   \n1217  0.065  0.815  0.120    0.6632     NaN   \n5820  0.126  0.874  0.000   -0.5994     NaN   \n6817  0.000  0.692  0.308    0.8402     NaN   \n...     ...    ...    ...       ...     ...   \n915   0.000  1.000  0.000    0.0000     NaN   \n1520  0.000  0.400  0.600    0.4588     NaN   \n5787  0.180  0.820  0.000   -0.5267     NaN   \n2609  0.333  0.667  0.000   -0.4588     NaN   \n393   0.074  0.414  0.512    0.9412  1953.0   \n\n                                         url  \\\n4839                                     NaN   \n4653                                     NaN   \n1217                                     NaN   \n5820                                     NaN   \n6817                                     NaN   \n...                                      ...   \n915                                      NaN   \n1520                                     NaN   \n5787                                     NaN   \n2609                                     NaN   \n393   https://www.amazon.co.uk/dp/B08578VJB3   \n\n                                           product_name reviewer_name  \\\n4839                                                NaN           NaN   \n4653                                                NaN           NaN   \n1217                                                NaN           NaN   \n5820                                                NaN           NaN   \n6817                                                NaN           NaN   \n...                                                 ...           ...   \n915                                                 NaN           NaN   \n1520                                                NaN           NaN   \n5787                                                NaN           NaN   \n2609                                                NaN           NaN   \n393   New Balance Women's FuelCell 996v4, Black/Lemo...      Kristy P   \n\n                     review_title  \\\n4839                          NaN   \n4653                          NaN   \n1217                          NaN   \n5820                          NaN   \n6817                          NaN   \n...                           ...   \n915                           NaN   \n1520                          NaN   \n5787                          NaN   \n2609                          NaN   \n393   Great Hardcourt shoe so far   \n\n                                            review_text  review_rating  \\\n4839                                                NaN            NaN   \n4653                                                NaN            NaN   \n1217                                                NaN            NaN   \n5820                                                NaN            NaN   \n6817                                                NaN            NaN   \n...                                                 ...            ...   \n915                                                 NaN            NaN   \n1520                                                NaN            NaN   \n5787                                                NaN            NaN   \n2609                                                NaN            NaN   \n393   These shoes are awesome so far. I have Morton'...            5.0   \n\n     verified_purchase                                        review_date  \\\n4839               NaN                                                NaN   \n4653               NaN                                                NaN   \n1217               NaN                                                NaN   \n5820               NaN                                                NaN   \n6817               NaN                                                NaN   \n...                ...                                                ...   \n915                NaN                                                NaN   \n1520               NaN                                                NaN   \n5787               NaN                                                NaN   \n2609               NaN                                                NaN   \n393               True  Reviewed in the United States on 18 February 2020   \n\n                     helpful_count                               uniq_id  \\\n4839                           NaN                                   NaN   \n4653                           NaN                                   NaN   \n1217                           NaN                                   NaN   \n5820                           NaN                                   NaN   \n6817                           NaN                                   NaN   \n...                            ...                                   ...   \n915                            NaN                                   NaN   \n1520                           NaN                                   NaN   \n5787                           NaN                                   NaN   \n2609                           NaN                                   NaN   \n393   28 people found this helpful  a9530fcc-4fde-55d9-ba81-a09ca1e1478a   \n\n               scraped_at                                             tokens  \\\n4839                  NaN                                                NaN   \n4653                  NaN                                                NaN   \n1217                  NaN                                                NaN   \n5820                  NaN                                                NaN   \n6817                  NaN                                                NaN   \n...                   ...                                                ...   \n915                   NaN                                                NaN   \n1520                  NaN                                                NaN   \n5787                  NaN                                                NaN   \n2609                  NaN                                                NaN   \n393   24/12/2021 02:27:20  [These, shoes, are, awesome, so, far, ., I, ha...   \n\n                                               pos_tags  \n4839                                                NaN  \n4653                                                NaN  \n1217                                                NaN  \n5820                                                NaN  \n6817                                                NaN  \n...                                                 ...  \n915                                                 NaN  \n1520                                                NaN  \n5787                                                NaN  \n2609                                                NaN  \n393   [(These, DT), (shoes, NNS), (are, VBP), (aweso...  \n\n[500 rows x 18 columns]",
            "text/html": "<div>\n<style scoped>\n    .dataframe tbody tr th:only-of-type {\n        vertical-align: middle;\n    }\n\n    .dataframe tbody tr th {\n        vertical-align: top;\n    }\n\n    .dataframe thead th {\n        text-align: right;\n    }\n</style>\n<table border=\"1\" class=\"dataframe\">\n  <thead>\n    <tr style=\"text-align: right;\">\n      <th></th>\n      <th>neg</th>\n      <th>neu</th>\n      <th>pos</th>\n      <th>compound</th>\n      <th>Id</th>\n      <th>url</th>\n      <th>product_name</th>\n      <th>reviewer_name</th>\n      <th>review_title</th>\n      <th>review_text</th>\n      <th>review_rating</th>\n      <th>verified_purchase</th>\n      <th>review_date</th>\n      <th>helpful_count</th>\n      <th>uniq_id</th>\n      <th>scraped_at</th>\n      <th>tokens</th>\n      <th>pos_tags</th>\n    </tr>\n  </thead>\n  <tbody>\n    <tr>\n      <th>4839</th>\n      <td>0.000</td>\n      <td>1.000</td>\n      <td>0.000</td>\n      <td>0.0000</td>\n      <td>NaN</td>\n      <td>NaN</td>\n      <td>NaN</td>\n      <td>NaN</td>\n      <td>NaN</td>\n      <td>NaN</td>\n      <td>NaN</td>\n      <td>NaN</td>\n      <td>NaN</td>\n      <td>NaN</td>\n      <td>NaN</td>\n      <td>NaN</td>\n      <td>NaN</td>\n      <td>NaN</td>\n    </tr>\n    <tr>\n      <th>4653</th>\n      <td>0.000</td>\n      <td>0.607</td>\n      <td>0.393</td>\n      <td>0.9526</td>\n      <td>NaN</td>\n      <td>NaN</td>\n      <td>NaN</td>\n      <td>NaN</td>\n      <td>NaN</td>\n      <td>NaN</td>\n      <td>NaN</td>\n      <td>NaN</td>\n      <td>NaN</td>\n      <td>NaN</td>\n      <td>NaN</td>\n      <td>NaN</td>\n      <td>NaN</td>\n      <td>NaN</td>\n    </tr>\n    <tr>\n      <th>1217</th>\n      <td>0.065</td>\n      <td>0.815</td>\n      <td>0.120</td>\n      <td>0.6632</td>\n      <td>NaN</td>\n      <td>NaN</td>\n      <td>NaN</td>\n      <td>NaN</td>\n      <td>NaN</td>\n      <td>NaN</td>\n      <td>NaN</td>\n      <td>NaN</td>\n      <td>NaN</td>\n      <td>NaN</td>\n      <td>NaN</td>\n      <td>NaN</td>\n      <td>NaN</td>\n      <td>NaN</td>\n    </tr>\n    <tr>\n      <th>5820</th>\n      <td>0.126</td>\n      <td>0.874</td>\n      <td>0.000</td>\n      <td>-0.5994</td>\n      <td>NaN</td>\n      <td>NaN</td>\n      <td>NaN</td>\n      <td>NaN</td>\n      <td>NaN</td>\n      <td>NaN</td>\n      <td>NaN</td>\n      <td>NaN</td>\n      <td>NaN</td>\n      <td>NaN</td>\n      <td>NaN</td>\n      <td>NaN</td>\n      <td>NaN</td>\n      <td>NaN</td>\n    </tr>\n    <tr>\n      <th>6817</th>\n      <td>0.000</td>\n      <td>0.692</td>\n      <td>0.308</td>\n      <td>0.8402</td>\n      <td>NaN</td>\n      <td>NaN</td>\n      <td>NaN</td>\n      <td>NaN</td>\n      <td>NaN</td>\n      <td>NaN</td>\n      <td>NaN</td>\n      <td>NaN</td>\n      <td>NaN</td>\n      <td>NaN</td>\n      <td>NaN</td>\n      <td>NaN</td>\n      <td>NaN</td>\n      <td>NaN</td>\n    </tr>\n    <tr>\n      <th>...</th>\n      <td>...</td>\n      <td>...</td>\n      <td>...</td>\n      <td>...</td>\n      <td>...</td>\n      <td>...</td>\n      <td>...</td>\n      <td>...</td>\n      <td>...</td>\n      <td>...</td>\n      <td>...</td>\n      <td>...</td>\n      <td>...</td>\n      <td>...</td>\n      <td>...</td>\n      <td>...</td>\n      <td>...</td>\n      <td>...</td>\n    </tr>\n    <tr>\n      <th>915</th>\n      <td>0.000</td>\n      <td>1.000</td>\n      <td>0.000</td>\n      <td>0.0000</td>\n      <td>NaN</td>\n      <td>NaN</td>\n      <td>NaN</td>\n      <td>NaN</td>\n      <td>NaN</td>\n      <td>NaN</td>\n      <td>NaN</td>\n      <td>NaN</td>\n      <td>NaN</td>\n      <td>NaN</td>\n      <td>NaN</td>\n      <td>NaN</td>\n      <td>NaN</td>\n      <td>NaN</td>\n    </tr>\n    <tr>\n      <th>1520</th>\n      <td>0.000</td>\n      <td>0.400</td>\n      <td>0.600</td>\n      <td>0.4588</td>\n      <td>NaN</td>\n      <td>NaN</td>\n      <td>NaN</td>\n      <td>NaN</td>\n      <td>NaN</td>\n      <td>NaN</td>\n      <td>NaN</td>\n      <td>NaN</td>\n      <td>NaN</td>\n      <td>NaN</td>\n      <td>NaN</td>\n      <td>NaN</td>\n      <td>NaN</td>\n      <td>NaN</td>\n    </tr>\n    <tr>\n      <th>5787</th>\n      <td>0.180</td>\n      <td>0.820</td>\n      <td>0.000</td>\n      <td>-0.5267</td>\n      <td>NaN</td>\n      <td>NaN</td>\n      <td>NaN</td>\n      <td>NaN</td>\n      <td>NaN</td>\n      <td>NaN</td>\n      <td>NaN</td>\n      <td>NaN</td>\n      <td>NaN</td>\n      <td>NaN</td>\n      <td>NaN</td>\n      <td>NaN</td>\n      <td>NaN</td>\n      <td>NaN</td>\n    </tr>\n    <tr>\n      <th>2609</th>\n      <td>0.333</td>\n      <td>0.667</td>\n      <td>0.000</td>\n      <td>-0.4588</td>\n      <td>NaN</td>\n      <td>NaN</td>\n      <td>NaN</td>\n      <td>NaN</td>\n      <td>NaN</td>\n      <td>NaN</td>\n      <td>NaN</td>\n      <td>NaN</td>\n      <td>NaN</td>\n      <td>NaN</td>\n      <td>NaN</td>\n      <td>NaN</td>\n      <td>NaN</td>\n      <td>NaN</td>\n    </tr>\n    <tr>\n      <th>393</th>\n      <td>0.074</td>\n      <td>0.414</td>\n      <td>0.512</td>\n      <td>0.9412</td>\n      <td>1953.0</td>\n      <td>https://www.amazon.co.uk/dp/B08578VJB3</td>\n      <td>New Balance Women's FuelCell 996v4, Black/Lemo...</td>\n      <td>Kristy P</td>\n      <td>Great Hardcourt shoe so far</td>\n      <td>These shoes are awesome so far. I have Morton'...</td>\n      <td>5.0</td>\n      <td>True</td>\n      <td>Reviewed in the United States on 18 February 2020</td>\n      <td>28 people found this helpful</td>\n      <td>a9530fcc-4fde-55d9-ba81-a09ca1e1478a</td>\n      <td>24/12/2021 02:27:20</td>\n      <td>[These, shoes, are, awesome, so, far, ., I, ha...</td>\n      <td>[(These, DT), (shoes, NNS), (are, VBP), (aweso...</td>\n    </tr>\n  </tbody>\n</table>\n<p>500 rows × 18 columns</p>\n</div>"
          },
          "metadata": {}
        }
      ]
    },
    {
      "cell_type": "code",
      "source": [
        "print(df[['Id', 'review_text']].head())\n",
        "print(vaders[['Id', 'review_text']].head())\n"
      ],
      "metadata": {
        "jupyter": {
          "source_hidden": true
        },
        "execution": {
          "iopub.status.busy": "2024-10-28T17:23:59.051238Z",
          "iopub.execute_input": "2024-10-28T17:23:59.051665Z",
          "iopub.status.idle": "2024-10-28T17:23:59.064583Z",
          "shell.execute_reply.started": "2024-10-28T17:23:59.051624Z",
          "shell.execute_reply": "2024-10-28T17:23:59.063566Z"
        },
        "trusted": true,
        "id": "OMNUnNJyKTEV",
        "outputId": "983ad9b2-48fa-42d5-b4c8-0cca81a34c6c"
      },
      "execution_count": null,
      "outputs": [
        {
          "name": "stdout",
          "text": "     Id                                        review_text\n0  4839  Aufgrund der positiven Resonanz habe ich mir d...\n1  4653  I love these Ryka shoes.  I purchased my usual...\n2  1217  This shoe doesn't actually have the velcro str...\n3  5820  Die Sohle der Schuhe ist viel zu hart, ich wei...\n4  6817  These shoes are great for the price. Been lovi...\n      Id review_text\n4839 NaN         NaN\n4653 NaN         NaN\n1217 NaN         NaN\n5820 NaN         NaN\n6817 NaN         NaN\n",
          "output_type": "stream"
        }
      ]
    },
    {
      "cell_type": "code",
      "source": [
        "sns.barplot(data=vaders,x='review_rating', y='compound')"
      ],
      "metadata": {
        "jupyter": {
          "source_hidden": true
        },
        "execution": {
          "iopub.status.busy": "2024-10-28T17:23:59.066074Z",
          "iopub.execute_input": "2024-10-28T17:23:59.066425Z",
          "iopub.status.idle": "2024-10-28T17:23:59.391183Z",
          "shell.execute_reply.started": "2024-10-28T17:23:59.066395Z",
          "shell.execute_reply": "2024-10-28T17:23:59.390087Z"
        },
        "trusted": true,
        "id": "f9UR1E8JKTEV",
        "outputId": "5d1d813f-363d-4fb8-cf8e-25e9d8c15e88"
      },
      "execution_count": null,
      "outputs": [
        {
          "execution_count": 49,
          "output_type": "execute_result",
          "data": {
            "text/plain": "<Axes: xlabel='review_rating', ylabel='compound'>"
          },
          "metadata": {}
        },
        {
          "output_type": "display_data",
          "data": {
            "text/plain": "<Figure size 640x480 with 1 Axes>",
            "image/png": "[encoded data removed]"
          },
          "metadata": {}
        }
      ]
    },
    {
      "cell_type": "code",
      "source": [
        "sns.barplot(data=vaders,x='review_rating', y='pos')"
      ],
      "metadata": {
        "jupyter": {
          "source_hidden": true
        },
        "execution": {
          "iopub.status.busy": "2024-10-28T17:23:59.395164Z",
          "iopub.execute_input": "2024-10-28T17:23:59.396129Z",
          "iopub.status.idle": "2024-10-28T17:23:59.700599Z",
          "shell.execute_reply.started": "2024-10-28T17:23:59.39608Z",
          "shell.execute_reply": "2024-10-28T17:23:59.69959Z"
        },
        "trusted": true,
        "id": "u7eips2sKTEV",
        "outputId": "a1e60ddd-3689-40a4-f3d4-6fe1d5d99d60"
      },
      "execution_count": null,
      "outputs": [
        {
          "execution_count": 50,
          "output_type": "execute_result",
          "data": {
            "text/plain": "<Axes: xlabel='review_rating', ylabel='pos'>"
          },
          "metadata": {}
        },
        {
          "output_type": "display_data",
          "data": {
            "text/plain": "<Figure size 640x480 with 1 Axes>",
            "image/png": "[encoded data removed]"
          },
          "metadata": {}
        }
      ]
    },
    {
      "cell_type": "markdown",
      "source": [
        "sns.barplot(data=vaders,x='review_rating', y='neg')"
      ],
      "metadata": {
        "execution": {
          "iopub.status.busy": "2024-10-28T17:21:19.93998Z",
          "iopub.execute_input": "2024-10-28T17:21:19.940707Z",
          "iopub.status.idle": "2024-10-28T17:21:20.249986Z",
          "shell.execute_reply.started": "2024-10-28T17:21:19.940665Z",
          "shell.execute_reply": "2024-10-28T17:21:20.248836Z"
        },
        "id": "Rx3t-ksRKTEV"
      }
    },
    {
      "cell_type": "code",
      "source": [],
      "metadata": {
        "id": "7LUNTMFhKTEV"
      },
      "execution_count": null,
      "outputs": []
    }
  ]
}